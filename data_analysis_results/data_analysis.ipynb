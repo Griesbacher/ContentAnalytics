{
 "cells": [
  {
   "cell_type": "markdown",
   "metadata": {
    "collapsed": true
   },
   "source": [
    "# Betrachtung und Analyse der Lerndaten\n",
    "Es werden zunächst die Daten Betrachtet, um Besonderheiten zu finden, und sich mit den Daten vertraut zu machen."
   ]
  },
  {
   "cell_type": "code",
   "execution_count": null,
   "metadata": {},
   "outputs": [],
   "source": [
    "from tweet import Tweet\n",
    "import numpy as np\n",
    "from csv_handling import load_tweet_csv\n",
    "import matplotlib.pyplot as plt"
   ]
  },
  {
   "cell_type": "markdown",
   "metadata": {},
   "source": [
    "Zunächst werden die Daten geladen."
   ]
  },
  {
   "cell_type": "code",
   "execution_count": null,
   "metadata": {},
   "outputs": [],
   "source": [
    "tweets = load_tweet_csv(\"train.csv\", use_pickle=False, use_cache=False)"
   ]
  },
  {
   "cell_type": "markdown",
   "metadata": {},
   "source": [
    "So sehen die Daten aus:"
   ]
  },
  {
   "cell_type": "code",
   "execution_count": null,
   "metadata": {},
   "outputs": [],
   "source": [
    "len(tweets)\n",
    "tweets[:10]\n",
    "[t[\"tweet\"] for t in tweets[:5]]"
   ]
  },
  {
   "cell_type": "markdown",
   "metadata": {},
   "source": [
    "Sehen wir uns die Verteilung der Klassen an:"
   ]
  },
  {
   "cell_type": "code",
   "execution_count": null,
   "metadata": {},
   "outputs": [],
   "source": [
    "fig, ax = plt.subplots()\n",
    "\n",
    "classes = Tweet.get_all_keys()\n",
    "y_pos = np.arange(len(classes))\n",
    "classes_sum = [0]*len(classes)\n",
    "for tweet in tweets:\n",
    "    for i in range(len(classes)):\n",
    "        classes_sum[i] += tweet[classes[i]]\n",
    "\n",
    "ax.barh(y_pos, classes_sum, align='center',\n",
    "        color='green', ecolor='black')\n",
    "ax.set_yticks(y_pos)\n",
    "ax.set_yticklabels(classes)\n",
    "ax.invert_yaxis()  # labels read top-to-bottom\n",
    "ax.set_xlabel('Summe aller vergebenen Labelwahrscheinlichkeiten')\n",
    "ax.set_title('Vorkommen der einzelnen Klassen')\n",
    "\n",
    "plt.show()"
   ]
  },
  {
   "cell_type": "markdown",
   "metadata": {},
   "source": [
    "Wenn die Klassen vorher auf 0 und 1 rediziert werden, sieht das Ergebnis etwas anders aus:"
   ]
  },
  {
   "cell_type": "code",
   "execution_count": null,
   "metadata": {},
   "outputs": [],
   "source": [
    "fig, ax = plt.subplots()\n",
    "\n",
    "classes_bin_sum = [0] * len(classes)\n",
    "for tweet in tweets:\n",
    "    for i in range(len(classes)):\n",
    "        classes_bin_sum[i] += 1 if tweet[classes[i]] > 0.5 else 0\n",
    "\n",
    "ax.barh(y_pos, classes_bin_sum, align='center',\n",
    "        color='green', ecolor='black')\n",
    "ax.set_yticks(y_pos)\n",
    "ax.set_yticklabels(classes)\n",
    "ax.invert_yaxis()  # labels read top-to-bottom\n",
    "ax.set_xlabel('Summe aller gerundeten vergebenen Labelwahrscheinlichkeiten')\n",
    "ax.set_title('Vorkommen der einzelnen Klassen, binaer betrachtet')\n",
    "\n",
    "plt.show()"
   ]
  },
  {
   "cell_type": "markdown",
   "metadata": {},
   "source": [
    "Als naechstes soll die Klassenhierarchie betrachtet werden. Sehen wir uns zunaechst die Surchschnittliche Summe der Klassenlabels innerhalb der Oberklassen an."
   ]
  },
  {
   "cell_type": "code",
   "execution_count": null,
   "metadata": {},
   "outputs": [],
   "source": [
    "fig, ax = plt.subplots()\n",
    "\n",
    "class_groups = [\"k\", \"s\", \"w\"]\n",
    "y_pos = np.arange(len(class_groups))\n",
    "main_classes_sum = [0] * len(class_groups)\n",
    "for tweet in tweets:\n",
    "    for tweet_class in classes:\n",
    "        main_classes_sum[class_groups.index(tweet_class[0])] += tweet[tweet_class]\n",
    "main_classes_sum = [grp/len(tweets) for grp in main_classes_sum]\n",
    "\n",
    "ax.barh(y_pos, main_classes_sum, align='center',\n",
    "        color='green', ecolor='black')\n",
    "ax.set_yticks(y_pos)\n",
    "ax.set_yticklabels(class_groups)\n",
    "ax.invert_yaxis()  # labels read top-to-bottom\n",
    "ax.set_xlabel('Druchschnittliche Summe der Labels pro Oberklasse')\n",
    "ax.set_title('Klassenhierarchie, Summe der Unterklassen')\n",
    "\n",
    "plt.show()"
   ]
  },
  {
   "cell_type": "markdown",
   "metadata": {},
   "source": [
    "Betrachten wir nun Korrelationen zwischen Klassen. Dazu werden die summierten Abstände zwischen den Werten von jeweils zwei Klassen aufgetragen. Blau: Korrelation, Grün: Keine Korrelation, Rot: Antikorrelation."
   ]
  },
  {
   "cell_type": "code",
   "execution_count": null,
   "metadata": {},
   "outputs": [],
   "source": [
    "fig, ax = plt.subplots()\n",
    "\n",
    "classes = Tweet.get_all_keys()\n",
    "y_pos = np.arange(len(classes))\n",
    "\n",
    "error = np.full((len(classes), len(classes)), 0, dtype=int)\n",
    "for tweet in tweets[:100]:\n",
    "    for i, class_i in enumerate(classes):\n",
    "        for j, class_j in enumerate(classes):\n",
    "            error[i, j] += abs((tweet[class_i] - tweet[class_j]))\n",
    "ax.set_yticks(y_pos)\n",
    "ax.set_yticklabels(classes)\n",
    "ax.set_xticks(y_pos)\n",
    "ax.set_xticklabels(classes)\n",
    "ax.set_title('Korrelation zwischen Klassen')\n",
    "plt.imshow(error, interpolation='nearest')\n",
    "\n",
    "plt.show()"
   ]
  }
 ],
 "metadata": {
  "kernelspec": {
   "display_name": "Python 2",
   "language": "python",
   "name": "python2"
  },
  "language_info": {
   "codemirror_mode": {
    "name": "ipython",
    "version": 2.0
   },
   "file_extension": ".py",
   "mimetype": "text/x-python",
   "name": "python",
   "nbconvert_exporter": "python",
   "pygments_lexer": "ipython2",
   "version": "2.7.6"
  }
 },
 "nbformat": 4,
 "nbformat_minor": 0
}